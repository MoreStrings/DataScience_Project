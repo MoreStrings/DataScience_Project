{
 "cells": [
  {
   "cell_type": "markdown",
   "metadata": {},
   "source": [
    "# Predicting movie ratings<br>\n",
    "> Objective: Predict the rating of movies based on features like generes and budget."
   ]
  },
  {
   "cell_type": "code",
   "execution_count": 47,
   "metadata": {},
   "outputs": [],
   "source": [
    "import pandas as pd\n",
    "import matplotlib.pyplot as plt\n",
    "import seaborn as sns\n",
    "import numpy as np\n",
    "from sklearn.preprocessing import MinMaxScaler\n",
    "\n",
    "#importing the dataset\n",
    "df = pd.read_csv(\"TMDB_movie_dataset_v11.csv\")"
   ]
  },
  {
   "cell_type": "markdown",
   "metadata": {},
   "source": [
    "The dataset is from Kaggle, collected from the movie and TV review platform <i>The Movie Database(TMDB)</i>.<br>\n",
    "The dataset csv link: https://www.kaggle.com/datasets/asaniczka/tmdb-movies-dataset-2023-930k-movies?resource=download"
   ]
  },
  {
   "cell_type": "code",
   "execution_count": 48,
   "metadata": {},
   "outputs": [
    {
     "data": {
      "text/plain": [
       "Index(['id', 'title', 'vote_average', 'vote_count', 'status', 'release_date',\n",
       "       'revenue', 'runtime', 'adult', 'backdrop_path', 'budget', 'homepage',\n",
       "       'imdb_id', 'original_language', 'original_title', 'overview',\n",
       "       'popularity', 'poster_path', 'tagline', 'genres',\n",
       "       'production_companies', 'production_countries', 'spoken_languages',\n",
       "       'keywords'],\n",
       "      dtype='object')"
      ]
     },
     "execution_count": 48,
     "metadata": {},
     "output_type": "execute_result"
    }
   ],
   "source": [
    "df.columns"
   ]
  },
  {
   "cell_type": "code",
   "execution_count": 49,
   "metadata": {},
   "outputs": [
    {
     "name": "stdout",
     "output_type": "stream",
     "text": [
      "<class 'pandas.core.frame.DataFrame'>\n",
      "RangeIndex: 1160940 entries, 0 to 1160939\n",
      "Data columns (total 24 columns):\n",
      " #   Column                Non-Null Count    Dtype  \n",
      "---  ------                --------------    -----  \n",
      " 0   id                    1160940 non-null  int64  \n",
      " 1   title                 1160927 non-null  object \n",
      " 2   vote_average          1160940 non-null  float64\n",
      " 3   vote_count            1160940 non-null  int64  \n",
      " 4   status                1160940 non-null  object \n",
      " 5   release_date          963469 non-null   object \n",
      " 6   revenue               1160940 non-null  int64  \n",
      " 7   runtime               1160940 non-null  int64  \n",
      " 8   adult                 1160940 non-null  bool   \n",
      " 9   backdrop_path         306148 non-null   object \n",
      " 10  budget                1160940 non-null  int64  \n",
      " 11  homepage              122479 non-null   object \n",
      " 12  imdb_id               608519 non-null   object \n",
      " 13  original_language     1160940 non-null  object \n",
      " 14  original_title        1160927 non-null  object \n",
      " 15  overview              922103 non-null   object \n",
      " 16  popularity            1160940 non-null  float64\n",
      " 17  poster_path           789805 non-null   object \n",
      " 18  tagline               162724 non-null   object \n",
      " 19  genres                691062 non-null   object \n",
      " 20  production_companies  521493 non-null   object \n",
      " 21  production_countries  641634 non-null   object \n",
      " 22  spoken_languages      661517 non-null   object \n",
      " 23  keywords              311815 non-null   object \n",
      "dtypes: bool(1), float64(2), int64(5), object(16)\n",
      "memory usage: 204.8+ MB\n"
     ]
    }
   ],
   "source": [
    "df.info()"
   ]
  },
  {
   "cell_type": "code",
   "execution_count": 50,
   "metadata": {},
   "outputs": [
    {
     "data": {
      "text/plain": [
       "id                            0\n",
       "title                        13\n",
       "vote_average                  0\n",
       "vote_count                    0\n",
       "status                        0\n",
       "release_date             197471\n",
       "revenue                       0\n",
       "runtime                       0\n",
       "adult                         0\n",
       "backdrop_path            854792\n",
       "budget                        0\n",
       "homepage                1038461\n",
       "imdb_id                  552421\n",
       "original_language             0\n",
       "original_title               13\n",
       "overview                 238837\n",
       "popularity                    0\n",
       "poster_path              371135\n",
       "tagline                  998216\n",
       "genres                   469878\n",
       "production_companies     639447\n",
       "production_countries     519306\n",
       "spoken_languages         499423\n",
       "keywords                 849125\n",
       "dtype: int64"
      ]
     },
     "execution_count": 50,
     "metadata": {},
     "output_type": "execute_result"
    }
   ],
   "source": [
    "df.isnull().sum()"
   ]
  },
  {
   "cell_type": "markdown",
   "metadata": {},
   "source": [
    "## Initial data cleaning<br>\n",
    ">Removing rows with null values at critical columnn the \"generes\" columns. Dropping features without significant impact on the prediction of movie rating."
   ]
  },
  {
   "cell_type": "code",
   "execution_count": 51,
   "metadata": {},
   "outputs": [],
   "source": [
    "#dropping null rows with null values for: title, orignal title, genres\n",
    "df = df.dropna(subset = [\"genres\",\"title\", \"release_date\", \"production_companies\", \"production_countries\", \"status\"])\n",
    "\n",
    "#dropping unnecessary columns\n",
    "columns_to_drop = [\"backdrop_path\", \"homepage\", \"imdb_id\", \n",
    "                   \"overview\", \"poster_path\", \"tagline\",\"keywords\", \"spoken_languages\", \"original_title\"]\n",
    "\n",
    "df[\"release_date\"] = pd.to_datetime(df[\"release_date\"])\n",
    "\n",
    "df = df.drop(columns = columns_to_drop)\n",
    "\n",
    "#dropping duplicate rows\n",
    "\n",
    "df = df.drop_duplicates()"
   ]
  },
  {
   "cell_type": "code",
   "execution_count": 52,
   "metadata": {},
   "outputs": [
    {
     "name": "stdout",
     "output_type": "stream",
     "text": [
      "<class 'pandas.core.frame.DataFrame'>\n",
      "Index: 355188 entries, 0 to 1160933\n",
      "Data columns (total 15 columns):\n",
      " #   Column                Non-Null Count   Dtype         \n",
      "---  ------                --------------   -----         \n",
      " 0   id                    355188 non-null  int64         \n",
      " 1   title                 355188 non-null  object        \n",
      " 2   vote_average          355188 non-null  float64       \n",
      " 3   vote_count            355188 non-null  int64         \n",
      " 4   status                355188 non-null  object        \n",
      " 5   release_date          355188 non-null  datetime64[ns]\n",
      " 6   revenue               355188 non-null  int64         \n",
      " 7   runtime               355188 non-null  int64         \n",
      " 8   adult                 355188 non-null  bool          \n",
      " 9   budget                355188 non-null  int64         \n",
      " 10  original_language     355188 non-null  object        \n",
      " 11  popularity            355188 non-null  float64       \n",
      " 12  genres                355188 non-null  object        \n",
      " 13  production_companies  355188 non-null  object        \n",
      " 14  production_countries  355188 non-null  object        \n",
      "dtypes: bool(1), datetime64[ns](1), float64(2), int64(5), object(6)\n",
      "memory usage: 41.0+ MB\n"
     ]
    }
   ],
   "source": [
    "df.info()"
   ]
  },
  {
   "cell_type": "code",
   "execution_count": 53,
   "metadata": {},
   "outputs": [
    {
     "name": "stdout",
     "output_type": "stream",
     "text": [
      "Total rows after dropping and 355188\n",
      "\n",
      "Number of null values in any of the columns\n"
     ]
    },
    {
     "data": {
      "text/plain": [
       "id                      0\n",
       "title                   0\n",
       "vote_average            0\n",
       "vote_count              0\n",
       "status                  0\n",
       "release_date            0\n",
       "revenue                 0\n",
       "runtime                 0\n",
       "adult                   0\n",
       "budget                  0\n",
       "original_language       0\n",
       "popularity              0\n",
       "genres                  0\n",
       "production_companies    0\n",
       "production_countries    0\n",
       "dtype: int64"
      ]
     },
     "execution_count": 53,
     "metadata": {},
     "output_type": "execute_result"
    }
   ],
   "source": [
    "#total remaining rows after purging\n",
    "print(f\"Total rows after dropping and {df.shape[0]}\")\n",
    "\n",
    "#checking if any null values are left over\n",
    "print(\"\\nNumber of null values in any of the columns\")\n",
    "df.isnull().sum()"
   ]
  },
  {
   "cell_type": "code",
   "execution_count": 54,
   "metadata": {},
   "outputs": [
    {
     "data": {
      "text/html": [
       "<div>\n",
       "<style scoped>\n",
       "    .dataframe tbody tr th:only-of-type {\n",
       "        vertical-align: middle;\n",
       "    }\n",
       "\n",
       "    .dataframe tbody tr th {\n",
       "        vertical-align: top;\n",
       "    }\n",
       "\n",
       "    .dataframe thead th {\n",
       "        text-align: right;\n",
       "    }\n",
       "</style>\n",
       "<table border=\"1\" class=\"dataframe\">\n",
       "  <thead>\n",
       "    <tr style=\"text-align: right;\">\n",
       "      <th></th>\n",
       "      <th>id</th>\n",
       "      <th>title</th>\n",
       "      <th>vote_average</th>\n",
       "      <th>vote_count</th>\n",
       "      <th>status</th>\n",
       "      <th>release_date</th>\n",
       "      <th>revenue</th>\n",
       "      <th>runtime</th>\n",
       "      <th>adult</th>\n",
       "      <th>budget</th>\n",
       "      <th>original_language</th>\n",
       "      <th>popularity</th>\n",
       "      <th>genres</th>\n",
       "      <th>production_companies</th>\n",
       "      <th>production_countries</th>\n",
       "    </tr>\n",
       "  </thead>\n",
       "  <tbody>\n",
       "    <tr>\n",
       "      <th>0</th>\n",
       "      <td>27205</td>\n",
       "      <td>Inception</td>\n",
       "      <td>8.364</td>\n",
       "      <td>34495</td>\n",
       "      <td>Released</td>\n",
       "      <td>2010-07-15</td>\n",
       "      <td>825532764</td>\n",
       "      <td>148</td>\n",
       "      <td>False</td>\n",
       "      <td>160000000</td>\n",
       "      <td>en</td>\n",
       "      <td>83.952</td>\n",
       "      <td>Action, Science Fiction, Adventure</td>\n",
       "      <td>Legendary Pictures, Syncopy, Warner Bros. Pict...</td>\n",
       "      <td>United Kingdom, United States of America</td>\n",
       "    </tr>\n",
       "    <tr>\n",
       "      <th>1</th>\n",
       "      <td>157336</td>\n",
       "      <td>Interstellar</td>\n",
       "      <td>8.417</td>\n",
       "      <td>32571</td>\n",
       "      <td>Released</td>\n",
       "      <td>2014-11-05</td>\n",
       "      <td>701729206</td>\n",
       "      <td>169</td>\n",
       "      <td>False</td>\n",
       "      <td>165000000</td>\n",
       "      <td>en</td>\n",
       "      <td>140.241</td>\n",
       "      <td>Adventure, Drama, Science Fiction</td>\n",
       "      <td>Legendary Pictures, Syncopy, Lynda Obst Produc...</td>\n",
       "      <td>United Kingdom, United States of America</td>\n",
       "    </tr>\n",
       "    <tr>\n",
       "      <th>2</th>\n",
       "      <td>155</td>\n",
       "      <td>The Dark Knight</td>\n",
       "      <td>8.512</td>\n",
       "      <td>30619</td>\n",
       "      <td>Released</td>\n",
       "      <td>2008-07-16</td>\n",
       "      <td>1004558444</td>\n",
       "      <td>152</td>\n",
       "      <td>False</td>\n",
       "      <td>185000000</td>\n",
       "      <td>en</td>\n",
       "      <td>130.643</td>\n",
       "      <td>Drama, Action, Crime, Thriller</td>\n",
       "      <td>DC Comics, Legendary Pictures, Syncopy, Isobel...</td>\n",
       "      <td>United Kingdom, United States of America</td>\n",
       "    </tr>\n",
       "    <tr>\n",
       "      <th>3</th>\n",
       "      <td>19995</td>\n",
       "      <td>Avatar</td>\n",
       "      <td>7.573</td>\n",
       "      <td>29815</td>\n",
       "      <td>Released</td>\n",
       "      <td>2009-12-15</td>\n",
       "      <td>2923706026</td>\n",
       "      <td>162</td>\n",
       "      <td>False</td>\n",
       "      <td>237000000</td>\n",
       "      <td>en</td>\n",
       "      <td>79.932</td>\n",
       "      <td>Action, Adventure, Fantasy, Science Fiction</td>\n",
       "      <td>Dune Entertainment, Lightstorm Entertainment, ...</td>\n",
       "      <td>United States of America, United Kingdom</td>\n",
       "    </tr>\n",
       "    <tr>\n",
       "      <th>4</th>\n",
       "      <td>24428</td>\n",
       "      <td>The Avengers</td>\n",
       "      <td>7.710</td>\n",
       "      <td>29166</td>\n",
       "      <td>Released</td>\n",
       "      <td>2012-04-25</td>\n",
       "      <td>1518815515</td>\n",
       "      <td>143</td>\n",
       "      <td>False</td>\n",
       "      <td>220000000</td>\n",
       "      <td>en</td>\n",
       "      <td>98.082</td>\n",
       "      <td>Science Fiction, Action, Adventure</td>\n",
       "      <td>Marvel Studios</td>\n",
       "      <td>United States of America</td>\n",
       "    </tr>\n",
       "  </tbody>\n",
       "</table>\n",
       "</div>"
      ],
      "text/plain": [
       "       id  ...                      production_countries\n",
       "0   27205  ...  United Kingdom, United States of America\n",
       "1  157336  ...  United Kingdom, United States of America\n",
       "2     155  ...  United Kingdom, United States of America\n",
       "3   19995  ...  United States of America, United Kingdom\n",
       "4   24428  ...                  United States of America\n",
       "\n",
       "[5 rows x 15 columns]"
      ]
     },
     "execution_count": 54,
     "metadata": {},
     "output_type": "execute_result"
    }
   ],
   "source": [
    "df.head()"
   ]
  },
  {
   "cell_type": "code",
   "execution_count": 55,
   "metadata": {},
   "outputs": [
    {
     "name": "stdout",
     "output_type": "stream",
     "text": [
      "['Action, Science Fiction, Adventure' 'Adventure, Drama, Science Fiction'\n",
      " 'Drama, Action, Crime, Thriller' ...\n",
      " 'Horror, Fantasy, Drama, Action, Thriller'\n",
      " 'Horror, Mystery, Drama, Comedy' 'Music, Fantasy, Action, Comedy']\n",
      "['Legendary Pictures, Syncopy, Warner Bros. Pictures'\n",
      " 'Legendary Pictures, Syncopy, Lynda Obst Productions'\n",
      " 'DC Comics, Legendary Pictures, Syncopy, Isobel Griffiths, Warner Bros. Pictures'\n",
      " ... 'Oxford Television Company' 'Bacon, Viken Filmsenter'\n",
      " 'The Big Fights, Inc.']\n",
      "['United Kingdom, United States of America'\n",
      " 'United States of America, United Kingdom' 'United States of America' ...\n",
      " 'Belgium, Hungary, Portugal, Russia' 'Myanmar, Germany'\n",
      " 'Greenland, United States of America']\n"
     ]
    }
   ],
   "source": [
    "print(df[\"genres\"].unique())\n",
    "print(df[\"production_companies\"].unique())\n",
    "print(df[\"production_countries\"].unique())"
   ]
  },
  {
   "cell_type": "code",
   "execution_count": 56,
   "metadata": {},
   "outputs": [
    {
     "name": "stdout",
     "output_type": "stream",
     "text": [
      "0             [Action, Science Fiction, Adventure]\n",
      "1              [Adventure, Drama, Science Fiction]\n",
      "2                 [Drama, Action, Crime, Thriller]\n",
      "3    [Action, Adventure, Fantasy, Science Fiction]\n",
      "4             [Science Fiction, Action, Adventure]\n",
      "5                      [Action, Adventure, Comedy]\n",
      "6             [Adventure, Action, Science Fiction]\n",
      "7                                          [Drama]\n",
      "8             [Action, Science Fiction, Adventure]\n",
      "9                                [Thriller, Crime]\n",
      "Name: genres, dtype: object\n",
      "0    [Legendary Pictures, Syncopy, Warner Bros. Pic...\n",
      "1    [Legendary Pictures, Syncopy, Lynda Obst Produ...\n",
      "2    [DC Comics, Legendary Pictures, Syncopy, Isobe...\n",
      "3    [Dune Entertainment, Lightstorm Entertainment,...\n",
      "4                                     [Marvel Studios]\n",
      "5    [20th Century Fox, The Donners' Company, Genre...\n",
      "6                                     [Marvel Studios]\n",
      "7    [Regency Enterprises, Fox 2000 Pictures, Tauru...\n",
      "8                                     [Marvel Studios]\n",
      "9                [Miramax, A Band Apart, Jersey Films]\n",
      "Name: production_companies, dtype: object\n",
      "0    [United Kingdom, United States of America]\n",
      "1    [United Kingdom, United States of America]\n",
      "2    [United Kingdom, United States of America]\n",
      "3    [United States of America, United Kingdom]\n",
      "4                    [United States of America]\n",
      "5                    [United States of America]\n",
      "6                    [United States of America]\n",
      "7                    [United States of America]\n",
      "8                    [United States of America]\n",
      "9                    [United States of America]\n",
      "Name: production_countries, dtype: object\n"
     ]
    }
   ],
   "source": [
    "#genres is stored as strings converting them to lists\n",
    "df[\"genres\"] = df[\"genres\"].str.split(\", \")\n",
    "\n",
    "#production companies is stored as strings converting them to lists\n",
    "df[\"production_companies\"] = df[\"production_companies\"].str.split(\", \")\n",
    "\n",
    "#production countries is stored as strings converting them to lists\n",
    "df[\"production_countries\"] = df[\"production_countries\"].str.split(\", \")\n",
    "\n",
    "print(df[\"genres\"].head(10))\n",
    "print(df[\"production_companies\"].head(10))\n",
    "print(df[\"production_countries\"].head(10))\n",
    "\n"
   ]
  },
  {
   "cell_type": "code",
   "execution_count": 57,
   "metadata": {},
   "outputs": [
    {
     "data": {
      "text/plain": [
       "array(['Released', 'In Production', 'Planned', 'Post Production',\n",
       "       'Canceled', 'Rumored'], dtype=object)"
      ]
     },
     "execution_count": 57,
     "metadata": {},
     "output_type": "execute_result"
    }
   ],
   "source": [
    "df[\"status\"].unique()"
   ]
  },
  {
   "cell_type": "code",
   "execution_count": 58,
   "metadata": {},
   "outputs": [],
   "source": [
    "#removing movies with less than 1000 budget but some revenue\n",
    "\n",
    "df = df[~((df['budget'] < 1000) & (df['revenue'] > 0))]\n",
    "\n",
    "#removing movies with suspicious revenues for lower vote counts\n",
    "\n",
    "df = df[~((df['vote_count'] <= 100) & (df['revenue'] > 1000000000))]"
   ]
  },
  {
   "cell_type": "code",
   "execution_count": 59,
   "metadata": {},
   "outputs": [],
   "source": [
    "#film was invented in 1895 its not possible for movies to have been created before that\n",
    "\n",
    "df = df[df['release_date'].dt.year >= 1895]"
   ]
  },
  {
   "cell_type": "code",
   "execution_count": 60,
   "metadata": {},
   "outputs": [
    {
     "name": "stdout",
     "output_type": "stream",
     "text": [
      "<class 'pandas.core.frame.DataFrame'>\n",
      "Index: 348855 entries, 0 to 1160933\n",
      "Data columns (total 15 columns):\n",
      " #   Column                Non-Null Count   Dtype         \n",
      "---  ------                --------------   -----         \n",
      " 0   id                    348855 non-null  int64         \n",
      " 1   title                 348855 non-null  object        \n",
      " 2   vote_average          348855 non-null  float64       \n",
      " 3   vote_count            348855 non-null  int64         \n",
      " 4   status                348855 non-null  object        \n",
      " 5   release_date          348855 non-null  datetime64[ns]\n",
      " 6   revenue               348855 non-null  int64         \n",
      " 7   runtime               348855 non-null  int64         \n",
      " 8   adult                 348855 non-null  bool          \n",
      " 9   budget                348855 non-null  int64         \n",
      " 10  original_language     348855 non-null  object        \n",
      " 11  popularity            348855 non-null  float64       \n",
      " 12  genres                348855 non-null  object        \n",
      " 13  production_companies  348855 non-null  object        \n",
      " 14  production_countries  348855 non-null  object        \n",
      "dtypes: bool(1), datetime64[ns](1), float64(2), int64(5), object(6)\n",
      "memory usage: 40.3+ MB\n"
     ]
    }
   ],
   "source": [
    "#final check before eda\n",
    "\n",
    "df.info()"
   ]
  },
  {
   "cell_type": "markdown",
   "metadata": {},
   "source": [
    "## EDA task"
   ]
  },
  {
   "cell_type": "markdown",
   "metadata": {},
   "source": [
    "1. Feature Relationships and Trends"
   ]
  },
  {
   "cell_type": "code",
   "execution_count": 61,
   "metadata": {},
   "outputs": [],
   "source": [
    "#budget vs revenue\n",
    "\n",
    "#movies can only generate revenues if they are released so excluding unreleased films for this section\n",
    "\n",
    "df_released = df[df[\"status\"] == \"Released\"].copy()\n",
    "\n",
    "df_released[\"profit\"] = df_released[\"revenue\"] - df_released[\"budget\"]\n",
    "\n",
    "most_profitable = df_released.nlargest(10, \"profit\")[[\"title\", \"budget\", \"revenue\"]]\n",
    "\n",
    "least_profitable = df_released.nsmallest(10, \"profit\")[[\"title\", \"budget\", \"revenue\"]]"
   ]
  },
  {
   "cell_type": "markdown",
   "metadata": {},
   "source": [
    "Top 10 most profitable movies."
   ]
  },
  {
   "cell_type": "code",
   "execution_count": 62,
   "metadata": {},
   "outputs": [
    {
     "name": "stdout",
     "output_type": "stream",
     "text": [
      "                            title     budget     revenue\n",
      "3                          Avatar  237000000  2923706026\n",
      "15              Avengers: Endgame  356000000  2800000000\n",
      "17                        Titanic  200000000  2264162353\n",
      "282      Avatar: The Way of Water  460000000  2320250281\n",
      "56   Star Wars: The Force Awakens  245000000  2068223624\n",
      "6          Avengers: Infinity War  300000000  2052415039\n",
      "57        Spider-Man: No Way Home  200000000  1921847111\n",
      "44                 Jurassic World  150000000  1671537444\n",
      "317                 The Lion King  260000000  1663075401\n",
      "271                     Furious 7  190000000  1515341399\n"
     ]
    }
   ],
   "source": [
    "print(most_profitable)"
   ]
  },
  {
   "cell_type": "markdown",
   "metadata": {},
   "source": [
    "The 10 least profitable movies"
   ]
  },
  {
   "cell_type": "code",
   "execution_count": 63,
   "metadata": {},
   "outputs": [
    {
     "name": "stdout",
     "output_type": "stream",
     "text": [
      "                               title     budget   revenue\n",
      "432975                          Enea  888000000         0\n",
      "1431                    The Gray Man  200000000    454023\n",
      "201074                    Messengers  200000000   5224221\n",
      "37944     Ninguém Entra, Ninguém Sai  193274344         0\n",
      "1596                The Tomorrow War  200000000  14400000\n",
      "1858    Mowgli: Legend of the Jungle  175000000         0\n",
      "938                      Turning Red  190000000  18879922\n",
      "906135    Killers of the Flower Moon  170000000         0\n",
      "806                       Red Notice  160000000    178143\n",
      "612                     The Irishman  159000000    968853\n"
     ]
    }
   ],
   "source": [
    "print(least_profitable)"
   ]
  },
  {
   "cell_type": "markdown",
   "metadata": {},
   "source": [
    "Movies like The Irishman, despite being critically acclaimed, often report low revenue due to the increasing trend of films being released on streaming services like Netflix shortly after their theatrical release. The Movie Database (TMDb) dataset, which focuses on theatrical revenue, doesn't fully capture the financial success of films that have significant earnings from streaming platforms."
   ]
  },
  {
   "cell_type": "code",
   "execution_count": 64,
   "metadata": {},
   "outputs": [
    {
     "name": "stderr",
     "output_type": "stream",
     "text": [
      "C:\\Users\\ROG\\AppData\\Local\\Temp\\ipykernel_36428\\1968398281.py:13: FutureWarning: The default of observed=False is deprecated and will be changed to True in a future version of pandas. Pass observed=False to retain current behavior or observed=True to adopt the future default and silence this warning.\n",
      "  df_filtered.groupby('runtime_category')['vote_average'].plot(kind='hist', alpha=0.6, bins=20, legend=True)\n"
     ]
    },
    {
     "data": {
      "image/png": "[encoded data removed]",
      "text/plain": [
       "<Figure size 1200x800 with 1 Axes>"
      ]
     },
     "metadata": {},
     "output_type": "display_data"
    }
   ],
   "source": [
    "#runtime vs ratings\n",
    "\n",
    "#movies need to be released first so they can have ratings, so using the same df_released dataframe in this section as well\n",
    "\n",
    "df_filtered = df_released[(df_released['runtime'] <= 1000) & (df_released['runtime'] > 0)].copy()\n",
    "\n",
    "bins = [0, 60, 120, 180, 240, 300, 360, 420, 480, 600, 1000]\n",
    "labels = ['0-60', '60-120', '120-180', '180-240', '240-300', '300-360', '360-420', '420-480', '480-600', '600+']\n",
    "\n",
    "df_filtered['runtime_category'] = pd.cut(df_filtered['runtime'], bins=bins, labels=labels)\n",
    "\n",
    "plt.figure(figsize=(12, 8))\n",
    "df_filtered.groupby('runtime_category')['vote_average'].plot(kind='hist', alpha=0.6, bins=20, legend=True)\n",
    "\n",
    "plt.title('Distribution of Ratings by Runtime Categories', fontsize=14)\n",
    "plt.xlabel('Ratings (vote_average)', fontsize=12)\n",
    "plt.ylabel('Frequency', fontsize=12)\n",
    "\n",
    "plt.show()"
   ]
  },
  {
   "cell_type": "markdown",
   "metadata": {},
   "source": [
    "Movies exceeding 200 minutes of length on average get lower ratings. With movies at normal lengths i.e 60-120 minutes in length recieve better ratings on average. The frequencies of movies recieving more than an average rating of 8 is scarse."
   ]
  },
  {
   "cell_type": "code",
   "execution_count": 65,
   "metadata": {},
   "outputs": [
    {
     "data": {
      "image/png": "[encoded data removed]",
      "text/plain": [
       "<Figure size 1000x800 with 2 Axes>"
      ]
     },
     "metadata": {},
     "output_type": "display_data"
    }
   ],
   "source": [
    "#popularity vs vote average\n",
    "\n",
    "numerical_columns = [\"budget\", \"revenue\", \"runtime\", \"popularity\", \"vote_average\", \"vote_count\"]\n",
    "\n",
    "corr_matrix = df_released[numerical_columns].corr()\n",
    "\n",
    "corr_matrix\n",
    "\n",
    "plt.figure(figsize=(10, 8))\n",
    "sns.heatmap(corr_matrix, annot=True, cmap=\"coolwarm\", fmt=\".2f\", linewidths=1)\n",
    "\n",
    "plt.title(\"Correlation Matrix of Numerical Variables\", fontsize=14)\n",
    "plt.show()"
   ]
  },
  {
   "cell_type": "markdown",
   "metadata": {},
   "source": [
    "2. Time Based Analysis"
   ]
  },
  {
   "cell_type": "code",
   "execution_count": 66,
   "metadata": {},
   "outputs": [
    {
     "data": {
      "image/png": "[encoded data removed]",
      "text/plain": [
       "<Figure size 1800x600 with 3 Axes>"
      ]
     },
     "metadata": {},
     "output_type": "display_data"
    }
   ],
   "source": [
    "#most successful years(revenue, vote count, average ratings)\n",
    "\n",
    "df_released[\"year\"] = df_released[\"release_date\"].dt.year\n",
    "df_released[\"month\"] = df_released[\"release_date\"].dt.month\n",
    "\n",
    "# Use the 'vote_count' from the original DataFrame within the aggregation\n",
    "yearly_data = df_released.groupby(\"year\").agg(\n",
    "    weighted_average_rating=(\"vote_average\", lambda x: (x * df_released.loc[x.index, \"vote_count\"]).sum() / df_released.loc[x.index, \"vote_count\"].sum() if df_released.loc[x.index, \"vote_count\"].sum() > 0 else 0),\n",
    "    total_revenue=(\"revenue\", \"sum\"),\n",
    "    total_vote_count=(\"vote_count\", \"sum\")\n",
    ").reset_index()\n",
    "\n",
    "yearly_data = yearly_data[yearly_data[\"year\"] >= 2000]\n",
    "\n",
    "top_years_revenue = yearly_data.sort_values(by=\"total_revenue\", ascending=False)\n",
    "top_years_rating = yearly_data.sort_values(by=\"weighted_average_rating\", ascending=False)\n",
    "top_years_votes = yearly_data.sort_values(by=\"total_vote_count\", ascending=False)\n",
    "\n",
    "plt.figure(figsize=(18, 6))\n",
    "\n",
    "plt.subplot(1, 3, 1)\n",
    "sns.barplot(x=\"year\", y=\"total_revenue\", data=top_years_revenue.head(10))\n",
    "plt.title(\"Top 10 Years by Total Revenue\")\n",
    "plt.xticks(rotation=45)\n",
    "\n",
    "plt.subplot(1, 3, 2)\n",
    "sns.barplot(x=\"year\", y=\"weighted_average_rating\", data=top_years_rating.head(10))\n",
    "plt.title(\"Top 10 Years by Weighted Average Rating\")\n",
    "plt.xticks(rotation=45)\n",
    "\n",
    "plt.subplot(1, 3, 3)\n",
    "sns.barplot(x=\"year\", y=\"total_vote_count\", data=top_years_votes.head(10))\n",
    "plt.title(\"Top 10 Years by Total Vote Count\")\n",
    "plt.xticks(rotation=45)\n",
    "\n",
    "plt.tight_layout()\n",
    "plt.show()\n"
   ]
  },
  {
   "cell_type": "code",
   "execution_count": 67,
   "metadata": {},
   "outputs": [
    {
     "name": "stderr",
     "output_type": "stream",
     "text": [
      "C:\\Users\\ROG\\AppData\\Local\\Temp\\ipykernel_36428\\2927253984.py:5: DeprecationWarning: DataFrameGroupBy.apply operated on the grouping columns. This behavior is deprecated, and in a future version of pandas the grouping columns will be excluded from the operation. Either pass `include_groups=False` to exclude the groupings or explicitly select the grouping columns after groupby to silence this warning.\n",
      "  monthly_data = df_released.groupby(\"month\").apply(\n"
     ]
    },
    {
     "data": {
      "image/png": "[encoded data removed]",
      "text/plain": [
       "<Figure size 1200x600 with 1 Axes>"
      ]
     },
     "metadata": {},
     "output_type": "display_data"
    }
   ],
   "source": [
    "#movies released in certain months or seasons in terms of performance in terms of ratings\n",
    "\n",
    "\n",
    "#by month\n",
    "monthly_data = df_released.groupby(\"month\").apply(\n",
    "    lambda x: pd.Series({\n",
    "        \"weighted_average_rating\": (x[\"vote_average\"] * x[\"vote_count\"]).sum() / x[\"vote_count\"].sum() if x[\"vote_count\"].sum() > 0 else 0\n",
    "    })\n",
    ").reset_index()\n",
    "\n",
    "plt.figure(figsize=(12, 6))\n",
    "sns.barplot(x=\"month\", y=\"weighted_average_rating\", data=monthly_data)\n",
    "plt.title(\"Weighted Average Rating by Month of Release\")\n",
    "plt.xlabel(\"Month\")\n",
    "plt.ylabel(\"Weighted Average Rating\")\n",
    "plt.show()"
   ]
  },
  {
   "cell_type": "code",
   "execution_count": 68,
   "metadata": {},
   "outputs": [
    {
     "name": "stderr",
     "output_type": "stream",
     "text": [
      "C:\\Users\\ROG\\AppData\\Local\\Temp\\ipykernel_36428\\633233616.py:15: DeprecationWarning: DataFrameGroupBy.apply operated on the grouping columns. This behavior is deprecated, and in a future version of pandas the grouping columns will be excluded from the operation. Either pass `include_groups=False` to exclude the groupings or explicitly select the grouping columns after groupby to silence this warning.\n",
      "  seasonal_data = df_released.groupby(\"season\").apply(\n"
     ]
    },
    {
     "data": {
      "image/png": "[encoded data removed]",
      "text/plain": [
       "<Figure size 1000x600 with 1 Axes>"
      ]
     },
     "metadata": {},
     "output_type": "display_data"
    }
   ],
   "source": [
    "#by season\n",
    "\n",
    "def get_season(month):\n",
    "    if month in [12, 1, 2]:\n",
    "        return \"Winter\"\n",
    "    elif month in [3, 4, 5]:\n",
    "        return \"Spring\"\n",
    "    elif month in [6, 7, 8]:\n",
    "        return \"Summer\"\n",
    "    else:\n",
    "        return \"Fall\"\n",
    "\n",
    "df_released[\"season\"] = df_released[\"month\"].apply(get_season)\n",
    "\n",
    "seasonal_data = df_released.groupby(\"season\").apply(\n",
    "    lambda x: (x[\"vote_average\"] * x[\"vote_count\"]).sum() / x[\"vote_count\"].sum() if x[\"vote_count\"].sum() > 0 else 0\n",
    ").reset_index(name=\"weighted_average_rating\")\n",
    "\n",
    "plt.figure(figsize=(10, 6))\n",
    "sns.barplot(x='season', y='weighted_average_rating', data=seasonal_data)\n",
    "plt.title('Weighted Average Rating by Season of Release')\n",
    "plt.xlabel('Season')\n",
    "plt.ylabel('Weighted Average Rating')\n",
    "plt.show()\n"
   ]
  },
  {
   "cell_type": "markdown",
   "metadata": {},
   "source": [
    "The average ratings per time frame are calculated using a weighted average to reduce the impact of outliers, such as movies with few votes but high average ratings, or vice versa. By giving more weight to movies with a higher vote count, this method ensures that the ratings from more widely-voted films have a greater influence on the overall average, providing a more accurate reflection of the group's true ratings.<br>\n",
    "This priority to movies with higher vote count also means that the years or months where the website TMDB has had more active users tend to have higher average ratings."
   ]
  },
  {
   "cell_type": "markdown",
   "metadata": {},
   "source": [
    "3. Genre Analysis"
   ]
  },
  {
   "cell_type": "code",
   "execution_count": 69,
   "metadata": {},
   "outputs": [],
   "source": [
    "#top genres based on average ratings\n",
    "\n",
    "#using only released movies for this part of the analysis as average ratings can only be obtained for released movies, this also prevents the influence of outliers\n",
    "\n",
    "df_genres = df_released.explode(\"genres\")\n",
    "\n",
    "df_genres = df_genres[df_genres[\"genres\"].notna()]\n",
    "\n",
    "#exploding the df in terms of genres makes it such that if a movie has 6 genres listed, the new df will have 6 entries for that movie with only the genre changed"
   ]
  },
  {
   "cell_type": "code",
   "execution_count": 70,
   "metadata": {},
   "outputs": [
    {
     "data": {
      "text/plain": [
       "array(['Action', 'Science Fiction', 'Adventure', 'Drama', 'Crime',\n",
       "       'Thriller', 'Fantasy', 'Comedy', 'Romance', 'Western', 'Mystery',\n",
       "       'War', 'Animation', 'Family', 'Horror', 'Music', 'History',\n",
       "       'TV Movie', 'Documentary'], dtype=object)"
      ]
     },
     "execution_count": 70,
     "metadata": {},
     "output_type": "execute_result"
    }
   ],
   "source": [
    "df_genres[\"genres\"].unique()"
   ]
  },
  {
   "cell_type": "code",
   "execution_count": 71,
   "metadata": {},
   "outputs": [
    {
     "name": "stderr",
     "output_type": "stream",
     "text": [
      "C:\\Users\\ROG\\AppData\\Local\\Temp\\ipykernel_36428\\1755816238.py:5: DeprecationWarning: DataFrameGroupBy.apply operated on the grouping columns. This behavior is deprecated, and in a future version of pandas the grouping columns will be excluded from the operation. Either pass `include_groups=False` to exclude the groupings or explicitly select the grouping columns after groupby to silence this warning.\n",
      "  .apply(lambda x: (x[\"vote_average\"] * x[\"vote_count\"]).sum() / x[\"vote_count\"].sum())\n"
     ]
    },
    {
     "data": {
      "text/html": [
       "<div>\n",
       "<style scoped>\n",
       "    .dataframe tbody tr th:only-of-type {\n",
       "        vertical-align: middle;\n",
       "    }\n",
       "\n",
       "    .dataframe tbody tr th {\n",
       "        vertical-align: top;\n",
       "    }\n",
       "\n",
       "    .dataframe thead th {\n",
       "        text-align: right;\n",
       "    }\n",
       "</style>\n",
       "<table border=\"1\" class=\"dataframe\">\n",
       "  <thead>\n",
       "    <tr style=\"text-align: right;\">\n",
       "      <th></th>\n",
       "      <th>genres</th>\n",
       "      <th>weighted_average_rating</th>\n",
       "    </tr>\n",
       "  </thead>\n",
       "  <tbody>\n",
       "    <tr>\n",
       "      <th>17</th>\n",
       "      <td>War</td>\n",
       "      <td>7.311604</td>\n",
       "    </tr>\n",
       "    <tr>\n",
       "      <th>9</th>\n",
       "      <td>History</td>\n",
       "      <td>7.255265</td>\n",
       "    </tr>\n",
       "    <tr>\n",
       "      <th>2</th>\n",
       "      <td>Animation</td>\n",
       "      <td>7.155292</td>\n",
       "    </tr>\n",
       "    <tr>\n",
       "      <th>6</th>\n",
       "      <td>Drama</td>\n",
       "      <td>7.114524</td>\n",
       "    </tr>\n",
       "    <tr>\n",
       "      <th>11</th>\n",
       "      <td>Music</td>\n",
       "      <td>7.106628</td>\n",
       "    </tr>\n",
       "    <tr>\n",
       "      <th>4</th>\n",
       "      <td>Crime</td>\n",
       "      <td>7.005640</td>\n",
       "    </tr>\n",
       "    <tr>\n",
       "      <th>18</th>\n",
       "      <td>Western</td>\n",
       "      <td>6.967322</td>\n",
       "    </tr>\n",
       "    <tr>\n",
       "      <th>5</th>\n",
       "      <td>Documentary</td>\n",
       "      <td>6.947725</td>\n",
       "    </tr>\n",
       "    <tr>\n",
       "      <th>1</th>\n",
       "      <td>Adventure</td>\n",
       "      <td>6.941922</td>\n",
       "    </tr>\n",
       "    <tr>\n",
       "      <th>7</th>\n",
       "      <td>Family</td>\n",
       "      <td>6.929380</td>\n",
       "    </tr>\n",
       "  </tbody>\n",
       "</table>\n",
       "</div>"
      ],
      "text/plain": [
       "         genres  weighted_average_rating\n",
       "17          War                 7.311604\n",
       "9       History                 7.255265\n",
       "2     Animation                 7.155292\n",
       "6         Drama                 7.114524\n",
       "11        Music                 7.106628\n",
       "4         Crime                 7.005640\n",
       "18      Western                 6.967322\n",
       "5   Documentary                 6.947725\n",
       "1     Adventure                 6.941922\n",
       "7        Family                 6.929380"
      ]
     },
     "execution_count": 71,
     "metadata": {},
     "output_type": "execute_result"
    }
   ],
   "source": [
    "#calculating weighted average rating per genre\n",
    "\n",
    "genre_ratings = (\n",
    "    df_genres.groupby(\"genres\")\n",
    "    .apply(lambda x: (x[\"vote_average\"] * x[\"vote_count\"]).sum() / x[\"vote_count\"].sum())\n",
    "    .reset_index(name=\"weighted_average_rating\")\n",
    ")\n",
    "\n",
    "#sorting by ratings to get top rated genres\n",
    "\n",
    "top_genres = genre_ratings.sort_values(by= \"weighted_average_rating\", ascending=False)\n",
    "\n",
    "#top 10 genres\n",
    "top_genres.head(10)"
   ]
  },
  {
   "cell_type": "code",
   "execution_count": 72,
   "metadata": {},
   "outputs": [
    {
     "name": "stdout",
     "output_type": "stream",
     "text": [
      "Highest Rated Genre: War with rating: 7.3116044878343045\n",
      "Lowest Rated Genre: Horror with rating: 6.3278833588565595\n"
     ]
    }
   ],
   "source": [
    "#most highly rated genre and least highly rated genre\n",
    "\n",
    "highest_rated_genre = top_genres.iloc[0]\n",
    "\n",
    "lowest_rated_genre = top_genres.iloc[-1]\n",
    "\n",
    "print(\"Highest Rated Genre:\", highest_rated_genre[\"genres\"], \"with rating:\", highest_rated_genre[\"weighted_average_rating\"])\n",
    "print(\"Lowest Rated Genre:\", lowest_rated_genre[\"genres\"], \"with rating:\", lowest_rated_genre[\"weighted_average_rating\"])\n"
   ]
  },
  {
   "cell_type": "code",
   "execution_count": 73,
   "metadata": {},
   "outputs": [
    {
     "name": "stdout",
     "output_type": "stream",
     "text": [
      "18            Western\n",
      "14    Science Fiction\n",
      "1           Adventure\n",
      "0              Action\n",
      "8             Fantasy\n",
      "2           Animation\n",
      "7              Family\n",
      "16           Thriller\n",
      "17                War\n",
      "4               Crime\n",
      "3              Comedy\n",
      "12            Mystery\n",
      "9             History\n",
      "6               Drama\n",
      "13            Romance\n",
      "11              Music\n",
      "10             Horror\n",
      "5         Documentary\n",
      "15           TV Movie\n",
      "Name: genres, dtype: object\n"
     ]
    }
   ],
   "source": [
    "df_genres_valid = df_genres[(df_genres['budget'] > 0) & (df_genres['revenue'] > 0)]\n",
    "\n",
    "# Calculate weighted mean budget and revenue\n",
    "genre_budget_revenue = df_genres_valid.groupby(\"genres\").agg(\n",
    "    weighted_mean_budget=(\"budget\", lambda x: np.average(x, weights=x)),\n",
    "    weighted_mean_revenue=(\"revenue\", lambda x: np.average(x, weights=x))\n",
    ").reset_index()\n",
    "\n",
    "# Sort by weighted mean budget\n",
    "high_budget_genres = genre_budget_revenue.sort_values(by=\"weighted_mean_budget\", ascending=False)\n",
    "\n",
    "print(high_budget_genres['genres'])\n"
   ]
  },
  {
   "cell_type": "markdown",
   "metadata": {},
   "source": [
    "4. Production Insights"
   ]
  },
  {
   "cell_type": "code",
   "execution_count": 74,
   "metadata": {},
   "outputs": [
    {
     "name": "stdout",
     "output_type": "stream",
     "text": [
      "             production_companies  weighted_mean_vote  total_revenue\n",
      "38             Alfran Productions            8.706962      245066411\n",
      "463           Knickerbocker Films            8.438000      100853753\n",
      "76            Atman Entertainment            8.428025      100853753\n",
      "884       The Saul Zaentz Company            8.387718     2979311757\n",
      "165          Cecchi Gori Pictures            8.358414      327311859\n",
      "887  The Turman-Morrissey Company            8.338189       23875127\n",
      "871           The Coppola Company            8.337527      247020000\n",
      "966    Wendy Finerman Productions            8.336090      834223055\n",
      "885       The Steve Tisch Company            8.336061      830200665\n",
      "492          Les Films du Dauphin            8.312770       45284974\n"
     ]
    }
   ],
   "source": [
    "#the most successful production companies\n",
    "\n",
    "df_companies = df[[\"production_companies\", \"vote_average\", \"vote_count\", \"revenue\"]].copy()\n",
    "\n",
    "df_companies = df_companies.explode(\"production_companies\")\n",
    "\n",
    "company_votes = df_companies.groupby(\"production_companies\")[\"vote_count\"].sum().reset_index()\n",
    "company_votes = company_votes.rename(columns={\"vote_count\": \"total_votes\"})\n",
    "\n",
    "df_companies = df_companies.merge(company_votes, on=\"production_companies\")\n",
    "\n",
    "vote_threshold = 10000 #vote threshold of 10k votes to remove outliers\n",
    "df_companies = df_companies[df_companies[\"total_votes\"] >= vote_threshold]\n",
    "\n",
    "df_companies[\"weighted_vote\"] = df_companies[\"vote_average\"] * df_companies[\"vote_count\"]\n",
    "\n",
    "company_success = df_companies.groupby(\"production_companies\").agg(\n",
    "    weighted_sum_vote=(\"weighted_vote\", \"sum\"),\n",
    "    total_vote_count=(\"vote_count\", \"sum\"),\n",
    "    total_revenue=(\"revenue\", \"sum\")\n",
    ").reset_index()\n",
    "\n",
    "company_success[\"weighted_mean_vote\"] = company_success[\"weighted_sum_vote\"] / company_success[\"total_vote_count\"]\n",
    "\n",
    "successful_companies = company_success.sort_values(by=[\"weighted_mean_vote\", \"total_revenue\"], ascending=False)\n",
    "\n",
    "print(successful_companies[[\"production_companies\", \"weighted_mean_vote\", \"total_revenue\"]].head(10))\n"
   ]
  },
  {
   "cell_type": "markdown",
   "metadata": {},
   "source": [
    "Alfran Productions is known for producing The Godfather trilogy, while The Saul Zaentz Company was behind The Lord of the Rings films. The production companies listed here have been responsible for some of the most critically acclaimed and widely regarded greatest films of all time."
   ]
  },
  {
   "cell_type": "code",
   "execution_count": 75,
   "metadata": {},
   "outputs": [
    {
     "name": "stdout",
     "output_type": "stream",
     "text": [
      "        production_countries  weighted_mean_vote  total_revenue\n",
      "32               New Zealand            7.589674     8822450633\n",
      "41               South Korea            7.298752     4927543741\n",
      "22                      Iran            7.203346       73913550\n",
      "46                    Taiwan            7.174637     2080826821\n",
      "42              Soviet Union            7.056679        8908266\n",
      "50            United Kingdom            7.022601    93457241362\n",
      "4                     Brazil            7.005182     1627261116\n",
      "26                     Japan            6.984681    16737489988\n",
      "51  United States of America            6.891032   616367455775\n",
      "2                    Austria            6.885339      420306215\n"
     ]
    }
   ],
   "source": [
    "#production countries with the highest rated movies\n",
    "\n",
    "df_countries = df[[\"production_countries\", \"vote_average\", \"vote_count\", \"revenue\"]].copy()\n",
    "\n",
    "df_countries = df_countries.explode(\"production_countries\")\n",
    "\n",
    "country_votes = df_countries.groupby(\"production_countries\")[\"vote_count\"].sum().reset_index()\n",
    "country_votes = country_votes.rename(columns={\"vote_count\": \"total_votes\"})\n",
    "\n",
    "df_countries = df_countries.merge(country_votes, on=\"production_countries\")\n",
    "\n",
    "vote_threshold = 10000\n",
    "df_countries = df_countries[df_countries[\"total_votes\"] >= vote_threshold]\n",
    "\n",
    "df_countries[\"weighted_vote\"] = df_countries[\"vote_average\"] * df_countries[\"vote_count\"]\n",
    "\n",
    "country_success = df_countries.groupby(\"production_countries\").agg(\n",
    "    weighted_sum_vote=(\"weighted_vote\", \"sum\"),\n",
    "    total_vote_count=(\"vote_count\", \"sum\"),\n",
    "    total_revenue=(\"revenue\", \"sum\")\n",
    ").reset_index()\n",
    "\n",
    "country_success[\"weighted_mean_vote\"] = country_success[\"weighted_sum_vote\"] / country_success[\"total_vote_count\"]\n",
    "\n",
    "successful_countries = country_success.sort_values(by=[\"weighted_mean_vote\", \"total_revenue\"], ascending=False)\n",
    "\n",
    "print(successful_countries[[\"production_countries\", \"weighted_mean_vote\", \"total_revenue\"]].head(10))\n"
   ]
  },
  {
   "cell_type": "markdown",
   "metadata": {},
   "source": [
    "New Zealand leads with a 7.59 weighted mean vote and $8.82 billion in revenue, largely thanks to The Lord of the Rings. South Korea follows with $4.93 billion in revenue and critically acclaimed films like Parasite. Iran, Taiwan, and the Soviet Union also perform well in critical reception, despite lower revenues.<br>\n",
    "The United States and United Kingdom lead in revenue, with $616.37 billion and $93.46 billion, but their weighted votes are lower due to the sheer number of films produced, which can dilute the average rating. In contrast, smaller film industries, with fewer films but higher critical acclaim, tend to have higher weighted votes."
   ]
  },
  {
   "cell_type": "code",
   "execution_count": 76,
   "metadata": {},
   "outputs": [
    {
     "name": "stdout",
     "output_type": "stream",
     "text": [
      "      is_hollywood  weighted_mean_vote  total_revenue\n",
      "0    Non-Hollywood            6.702937   324856573614\n",
      "1  Hollywood (USA)            6.891032   616367455775\n"
     ]
    }
   ],
   "source": [
    "#hollywood vs non hollywood films\n",
    "\n",
    "hollywood_vs_non = country_success.copy()\n",
    "hollywood_vs_non[\"is_hollywood\"] = hollywood_vs_non[\"production_countries\"] == \"United States of America\"\n",
    "\n",
    "hollywood_vs_non = hollywood_vs_non.groupby(\"is_hollywood\").agg(\n",
    "    weighted_mean_vote=(\"weighted_mean_vote\", \"mean\"),\n",
    "    total_revenue=(\"total_revenue\", \"sum\")\n",
    ").reset_index()\n",
    "\n",
    "hollywood_vs_non[\"is_hollywood\"] = hollywood_vs_non[\"is_hollywood\"].map({True: \"Hollywood (USA)\", False: \"Non-Hollywood\"})\n",
    "\n",
    "print(hollywood_vs_non)"
   ]
  },
  {
   "cell_type": "markdown",
   "metadata": {},
   "source": [
    "Hollywood dominates the global film industry, nearly doubling the total revenue of all other film industries combined. Its vast budgets, worldwide distribution, and marketing power ensure both financial success and broad audience appeal. While non-Hollywood films can achieve high critical acclaim, their overall impact is limited by smaller markets and fewer high-budget productions."
   ]
  },
  {
   "cell_type": "markdown",
   "metadata": {},
   "source": [
    "5. Language & Status analysis"
   ]
  },
  {
   "cell_type": "code",
   "execution_count": 77,
   "metadata": {},
   "outputs": [
    {
     "name": "stdout",
     "output_type": "stream",
     "text": [
      "Language Weighted Vote Average Analysis:\n",
      "     is_english  weighted_mean_vote_average\n",
      "0  Non-English                    6.788609\n",
      "1      English                    6.871595\n",
      "\n",
      "Status Weighted Vote Average Analysis:\n",
      "             status  weighted_mean_vote_average\n",
      "0         Canceled                         NaN\n",
      "1    In Production                         NaN\n",
      "2          Planned                         NaN\n",
      "3  Post Production                         NaN\n",
      "4         Released                    6.860528\n",
      "5          Rumored                         NaN\n"
     ]
    },
    {
     "name": "stderr",
     "output_type": "stream",
     "text": [
      "C:\\Users\\ROG\\AppData\\Local\\Temp\\ipykernel_36428\\3903981266.py:3: DeprecationWarning: DataFrameGroupBy.apply operated on the grouping columns. This behavior is deprecated, and in a future version of pandas the grouping columns will be excluded from the operation. Either pass `include_groups=False` to exclude the groupings or explicitly select the grouping columns after groupby to silence this warning.\n",
      "  language_vote_avg = df.groupby('is_english').apply(\n",
      "C:\\Users\\ROG\\AppData\\Local\\Temp\\ipykernel_36428\\3903981266.py:10: RuntimeWarning: invalid value encountered in scalar divide\n",
      "  lambda x: (x['vote_average'] * x['vote_count']).sum() / x['vote_count'].sum()\n",
      "C:\\Users\\ROG\\AppData\\Local\\Temp\\ipykernel_36428\\3903981266.py:9: DeprecationWarning: DataFrameGroupBy.apply operated on the grouping columns. This behavior is deprecated, and in a future version of pandas the grouping columns will be excluded from the operation. Either pass `include_groups=False` to exclude the groupings or explicitly select the grouping columns after groupby to silence this warning.\n",
      "  status_vote_avg = df.groupby('status').apply(\n"
     ]
    }
   ],
   "source": [
    "df['is_english'] = df['original_language'].apply(lambda x: 1 if x == 'en' else 0)\n",
    "\n",
    "language_vote_avg = df.groupby('is_english').apply(\n",
    "    lambda x: (x['vote_average'] * x['vote_count']).sum() / x['vote_count'].sum()\n",
    ").reset_index(name='weighted_mean_vote_average')\n",
    "\n",
    "language_vote_avg['is_english'] = language_vote_avg['is_english'].map({1: 'English', 0: 'Non-English'})\n",
    "\n",
    "status_vote_avg = df.groupby('status').apply(\n",
    "    lambda x: (x['vote_average'] * x['vote_count']).sum() / x['vote_count'].sum()\n",
    ").reset_index(name='weighted_mean_vote_average')\n",
    "\n",
    "print(\"Language Weighted Vote Average Analysis:\\n\", language_vote_avg)\n",
    "print(\"\\nStatus Weighted Vote Average Analysis:\\n\", status_vote_avg)\n"
   ]
  },
  {
   "cell_type": "code",
   "execution_count": 78,
   "metadata": {},
   "outputs": [
    {
     "name": "stdout",
     "output_type": "stream",
     "text": [
      "status\n",
      "Canceled                  0\n",
      "In Production             0\n",
      "Planned                   0\n",
      "Post Production           0\n",
      "Released           19780908\n",
      "Rumored                   0\n",
      "Name: vote_count, dtype: int64\n",
      "status\n",
      "Canceled                 0.000\n",
      "In Production            0.000\n",
      "Planned                  0.000\n",
      "Post Production          0.000\n",
      "Released           1145487.699\n",
      "Rumored                  0.000\n",
      "Name: vote_average, dtype: float64\n"
     ]
    }
   ],
   "source": [
    "#checking if the movies in status other than \"released\" have vote count = 0 or vote average = 0 to explain why the result was NaN earlier\n",
    "\n",
    "print(df.groupby('status')['vote_count'].sum())\n",
    "print(df.groupby('status')['vote_average'].sum())\n"
   ]
  },
  {
   "cell_type": "markdown",
   "metadata": {},
   "source": [
    "The vote averages for English and non-English movies are nearly the same, as expected. Similarly, movies without a 'Released' status have no votes, since audiences must see a movie before they can rate it."
   ]
  },
  {
   "cell_type": "markdown",
   "metadata": {},
   "source": [
    "## Conclusion of the EDA task<br>\n",
    "\n",
    "A weighted average accounts for both individual values and their significance, making it more reliable than a simple mean. In this analysis, it was necessary to prevent bias from movies with very few votes, which could disproportionately affect rankings. By weighting ratings based on vote counts, we ensured that widely rated films had a greater influence, leading to fairer comparisons across genres, production companies, languages, and other factors. This approach helped balance popularity and critical reception, providing a more accurate picture of trends in the movie industry.<br>\n",
    "The result is also more \"fair,\" as when comparing ratings among different production companies and countries, the scope is entirely different. A simple mean would always favor categories with fewer highly rated movies rather than those with larger catalogs but more varied reception."
   ]
  },
  {
   "cell_type": "markdown",
   "metadata": {},
   "source": [
    "## Making a prediction model"
   ]
  },
  {
   "cell_type": "code",
   "execution_count": 79,
   "metadata": {},
   "outputs": [
    {
     "name": "stdout",
     "output_type": "stream",
     "text": [
      "MAE: 0.4200, RMSE: 0.8795, R2: 0.9138\n"
     ]
    }
   ],
   "source": [
    "from sklearn.model_selection import train_test_split\n",
    "from sklearn.pipeline import make_pipeline\n",
    "from sklearn.ensemble import RandomForestRegressor\n",
    "from sklearn.compose import ColumnTransformer\n",
    "from sklearn.preprocessing import StandardScaler\n",
    "from sklearn.metrics import mean_absolute_error, mean_squared_error, r2_score\n",
    "\n",
    "#copy of the cleaned data frame\n",
    "df_copy = df.copy()\n",
    "\n",
    "#adding a 'release_year' column\n",
    "df_copy[\"release_year\"] = df_copy[\"release_date\"].dt.year\n",
    "\n",
    "#filter only 'released' status and drop the status column\n",
    "df_copy = df_copy[df_copy[\"status\"] == \"Released\"]\n",
    "df_copy = df_copy.drop(columns=\"status\")\n",
    "\n",
    "#log-transform skewed features: 'revenue' and 'budget'\n",
    "df_copy['log_revenue'] = np.log1p(df_copy['revenue'])\n",
    "df_copy['log_budget'] = np.log1p(df_copy['budget'])\n",
    "\n",
    "#exploding the df for genres\n",
    "df_copy_exploded = df_copy.explode(\"genres\")\n",
    "\n",
    "#one-hot encoding on the exploded genre column\n",
    "genre_dummies = df_copy_exploded[\"genres\"].str.get_dummies(sep=\", \")\n",
    "\n",
    "#concatenating the dummies back to the exploded DataFrame\n",
    "df_copy_exploded = pd.concat([df_copy_exploded, genre_dummies], axis=1)\n",
    "\n",
    "#defining features and target\n",
    "X = df_copy_exploded.drop(columns=[\"vote_average\", \"id\", \"title\", \"production_countries\", \"production_companies\", \"original_language\", \"revenue\", \"budget\"])\n",
    "y = df_copy_exploded[\"vote_average\"]  #target\n",
    "\n",
    "numerical_cols = [\"vote_count\", \"log_revenue\", \"log_budget\", \"runtime\", \"popularity\", \"release_year\"]\n",
    "\n",
    "#one-hot encoding the categorical, and scaling the numerical data\n",
    "preprocessor = ColumnTransformer([\n",
    "    ('num', StandardScaler(), numerical_cols)\n",
    "])\n",
    "\n",
    "#define the full model pipeline using RandomForestRegressor\n",
    "model = make_pipeline(preprocessor, RandomForestRegressor(n_estimators=100, random_state=42))\n",
    "\n",
    "#splitting the data into a training and testing set\n",
    "X_train, X_test, y_train, y_test = train_test_split(X, y, test_size=0.2, random_state=42)\n",
    "\n",
    "#training the model\n",
    "model.fit(X_train, y_train)\n",
    "\n",
    "#make predictions\n",
    "y_pred = model.predict(X_test)\n",
    "\n",
    "#evaluate the performance\n",
    "mae = mean_absolute_error(y_test, y_pred)\n",
    "rmse = mean_squared_error(y_test, y_pred)\n",
    "r2 = r2_score(y_test, y_pred)\n",
    "\n",
    "#print the results\n",
    "print(f\"MAE: {mae:.4f}, RMSE: {rmse:.4f}, R2: {r2:.4f}\")\n"
   ]
  },
  {
   "cell_type": "markdown",
   "metadata": {},
   "source": [
    "## Conclusion form Prediction Model<br>\n",
    "This particular implementation is the 3rd iteration of the model with previous two models having performance outputs: \n",
    "<ul>a) MAE: 2.7066, RMSE: 9.1675, R2: 0.1019 </ul>\n",
    "<ul>b) MAE: 2.2029, RMSE: 2.7304, R2: 0.1525</ul>\n",
    "\n",
    "First Iteration:<br>\n",
    "The first implementation used Linear Regression with One-Hot Encoding on all categorical features, including exploded genres, production companies, and production language. This model took all the categories into account without any feature engineering.<br>\n",
    "Second Iteration:<br>\n",
    "In the second iteration, I dropped all categorical columns except for genres. This approach allowed the model to focus on a simpler feature set, but performance remained somewhat similar.<br>\n",
    "Third Iteration:<br>\n",
    "The third iteration involved using Random Forest Regressor, applying log-transformation to the skewed revenue and budget features, and dropping all categorical columns. This model improved performance significantly, with a notable increase in $R^2$ (0.9138), indicating a much better fit to the data.<br>\n",
    "## Understanding $R^2$\n",
    "$R^2$ or R-squared, s a statistical measure that represents the proportion of the varieance in the dependent varible(in this case, the movie ratings) that is explained by the independent variables(features) in the model. Mathematically, $R^2$ is defined as:\n",
    "\n",
    "$$\n",
    "R^2 = 1 - \\frac{SS_{\\text{residual}}}{SS_{\\text{total}}}\n",
    "$$\n",
    "\n",
    "Where:\n",
    "- SS_residual is the sum of the squared differences between the predicted and actual values.\n",
    "- SS_total is the total sum of squares, or the sum of squared differences between the actual values and the mean of the actual values.\n",
    "\n",
    "<b>Why is higher $R^2$ better?</b><br>\n",
    "$R^2$ ranges from 0 to 1 a higher value of $R^2$ indicates that the modle is able to explain a larger proportion of the variance in the target variable. This means that model's predictions are closer to the actual values, and capturing the underlying patterns in the data. So, in this context in the final iteration the $R^2$ score of 0.9138 means 91.38% of the variance in the movie ratings is explained by the features included in the model. This is a very strong result, indicating the model does a good job of predicting movie ratings based on the availaible features.<br>\n",
    "## How is the last iteration much better?\n",
    "In the final iteration, the improvements come from two key modifications:<br>\n",
    "1. <b>Log-Transformation of Skewed Features:</b> By applying a log-transformation to the revenue and budget features, we reduced the skewness in these variables. Skewed features can heavily influence model performance, especially for models like linear regression, which are sensitive to outliers and non-normal distributions. This transformation helps normalize these features, leading to better model performance by stabilizing variance and reducing the impact of extreme values.<br>\n",
    "2. <b>Random Forest Regressor:</b> Switching to a Random Forest Regressor from Linear Regression also contributed significantly to the model’s improvement. Random Forests are much more flexible and capable of capturing complex, non-linear relationships within the data. They can handle interactions between features without needing explicit specification, unlike linear regression, which assumes linearity between input features and the target variable. This flexibility allows the Random Forest model to better adapt to the data and capture more nuanced patterns.<br>\n",
    "\n",
    "These changes led to a significant increase in the $R^2$ score, from about 0.1 to over 0.91."
   ]
  }
 ],
 "metadata": {
  "kernelspec": {
   "display_name": "venv",
   "language": "python",
   "name": "python3"
  },
  "language_info": {
   "codemirror_mode": {
    "name": "ipython",
    "version": 3
   },
   "file_extension": ".py",
   "mimetype": "text/x-python",
   "name": "python",
   "nbconvert_exporter": "python",
   "pygments_lexer": "ipython3",
   "version": "3.13.1"
  }
 },
 "nbformat": 4,
 "nbformat_minor": 2
}
